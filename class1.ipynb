{
 "cells": [
  {
   "cell_type": "code",
   "execution_count": 37,
   "id": "e589bc66",
   "metadata": {},
   "outputs": [],
   "source": [
    "#Student grade checking\n",
    "#Accepting the name and roll no from the users\n",
    "#Define three subjects for the percentage calculation\n",
    "#if percentage is <80 then 1st div,"
   ]
  },
  {
   "cell_type": "code",
   "execution_count": null,
   "id": "b798c230",
   "metadata": {},
   "outputs": [],
   "source": [
    "def grade_check():\n",
    "    # First take the input as name and roll\n",
    "    name = input(\"Enter the name of student: \")\n",
    "    roll_no = input(\"Enter the roll no of student: \")\n",
    "    print(f\"This is the name {name} and this is roll no {roll_no}\")\n",
    "    \n",
    "    student_detail = [name, roll_no]\n",
    "    subjects = [\"Math\", \"Science\", \"Computer\"]\n",
    "    d = {}\n",
    "\n",
    "    for subject in subjects:\n",
    "        marks = int(input(f\"Enter your marks in {subject}:\"))\n",
    "        d[subject] = marks\n",
    "\n",
    "    value = sum(d.values())\n",
    "    percentage = value / len(subjects)\n",
    "\n",
    "    if percentage >= 80:\n",
    "        print(f\"Student has received 1st division with {percentage} percentage\")\n",
    "    elif percentage < 80 and percentage >= 60:\n",
    "        print(f\"Student has received 2nd division with { percentage } percentage\")\n",
    "    else:\n",
    "        print(\"Fail\")\n",
    "\n",
    "grade_check()"
   ]
  }
 ],
 "metadata": {
  "kernelspec": {
   "display_name": "Python 3",
   "language": "python",
   "name": "python3"
  },
  "language_info": {
   "codemirror_mode": {
    "name": "ipython",
    "version": 3
   },
   "file_extension": ".py",
   "mimetype": "text/x-python",
   "name": "python",
   "nbconvert_exporter": "python",
   "pygments_lexer": "ipython3",
   "version": "3.13.4"
  }
 },
 "nbformat": 4,
 "nbformat_minor": 5
}
